{
  "nbformat": 4,
  "nbformat_minor": 0,
  "metadata": {
    "colab": {
      "provenance": [],
      "gpuType": "T4",
      "authorship_tag": "ABX9TyPUHawRzlbDqurHOfOJ+6H1",
      "include_colab_link": true
    },
    "kernelspec": {
      "name": "python3",
      "display_name": "Python 3"
    },
    "language_info": {
      "name": "python"
    },
    "accelerator": "GPU"
  },
  "cells": [
    {
      "cell_type": "markdown",
      "metadata": {
        "id": "view-in-github",
        "colab_type": "text"
      },
      "source": [
        "<a href=\"https://colab.research.google.com/github/parkjongik-connecteve/connecteve/blob/main/connecteve_kaggle.ipynb\" target=\"_parent\"><img src=\"https://colab.research.google.com/assets/colab-badge.svg\" alt=\"Open In Colab\"/></a>"
      ]
    },
    {
      "cell_type": "code",
      "execution_count": 2,
      "metadata": {
        "colab": {
          "base_uri": "https://localhost:8080/"
        },
        "id": "y8CL-XXbti_q",
        "outputId": "5e0044b0-c260-415b-9fdb-c6c013392fb6"
      },
      "outputs": [
        {
          "output_type": "stream",
          "name": "stdout",
          "text": [
            "Mounted at /content/drive\n"
          ]
        }
      ],
      "source": [
        "from google.colab import drive\n",
        "drive.mount('/content/drive')"
      ]
    },
    {
      "cell_type": "code",
      "source": [
        "import os\n",
        "import torch\n",
        "import torch.nn as nn\n",
        "import torch.optim as optim\n",
        "from torch.utils.data import DataLoader, random_split, WeightedRandomSampler\n",
        "from torchvision import datasets, transforms, models\n",
        "from sklearn.metrics import classification_report, confusion_matrix\n",
        "import matplotlib.pyplot as plt\n",
        "import seaborn as sns\n",
        "import numpy as np\n",
        "from tqdm import tqdm\n",
        "import random\n",
        "\n",
        "# 0. 시드 고정\n",
        "def set_seed(seed=42):\n",
        "    torch.manual_seed(seed)\n",
        "    torch.cuda.manual_seed_all(seed)\n",
        "    np.random.seed(seed)\n",
        "    random.seed(seed)\n",
        "set_seed(42)\n",
        "\n",
        "# 1. 하이퍼파라미터\n",
        "learning_rate = 1e-5\n",
        "batch_size = 16\n",
        "dropout_p = 0.6\n",
        "num_epochs = 40\n",
        "early_stop_patience = 5\n",
        "weight_decay = 4e-4\n",
        "\n",
        "# 2. 경로\n",
        "data_dir = '/content/drive/MyDrive/archive/lumbar_spinal_dataset'\n",
        "train_dir = os.path.join(data_dir, 'training')\n",
        "test_dir = os.path.join(data_dir, 'testing')\n",
        "\n",
        "# 3. 클래스별 샘플 개수 함수\n",
        "def count_images_per_class(base_dir):\n",
        "    counts = []\n",
        "    class_names = sorted(os.listdir(base_dir))\n",
        "    for cls in class_names:\n",
        "        cls_dir = os.path.join(base_dir, cls)\n",
        "        if os.path.isdir(cls_dir):\n",
        "            n = len([f for f in os.listdir(cls_dir)\n",
        "                     if f.lower().endswith(('.jpg', '.jpeg', '.png', '.bmp', '.tif', '.tiff'))])\n",
        "            counts.append(n)\n",
        "    return counts\n",
        "\n",
        "class_counts = count_images_per_class(train_dir)\n",
        "print(\"클래스별 이미지 개수:\", class_counts)\n",
        "\n",
        "# 4. 데이터 증강 (train은 최대한 강하게 / val은 표준화만)\n",
        "train_transform = transforms.Compose([\n",
        "    transforms.Resize((256, 256)),\n",
        "    transforms.RandomResizedCrop(224),\n",
        "    transforms.RandomHorizontalFlip(),\n",
        "    transforms.RandomVerticalFlip(),\n",
        "    transforms.RandomRotation(40),\n",
        "    transforms.ColorJitter(0.4,0.4,0.4,0.15),\n",
        "    transforms.GaussianBlur(3),\n",
        "    transforms.RandomAffine(20, translate=(0.2,0.2), shear=15),\n",
        "    transforms.RandomErasing(p=0.5, scale=(0.02,0.2)),\n",
        "    transforms.ToTensor(),\n",
        "    transforms.Normalize([0.485, 0.456, 0.406], [0.229, 0.224, 0.225])\n",
        "])\n",
        "val_transform = transforms.Compose([\n",
        "    transforms.Resize((224, 224)),\n",
        "    transforms.ToTensor(),\n",
        "    transforms.Normalize([0.485, 0.456, 0.406], [0.229, 0.224, 0.225])\n",
        "])\n",
        "\n",
        "# 5. 데이터셋 및 DataLoader (클래스불균형 샘플링)\n",
        "full_train_dataset = datasets.ImageFolder(train_dir, transform=train_transform)\n",
        "train_size = int(0.8 * len(full_train_dataset))\n",
        "val_size = len(full_train_dataset) - train_size\n",
        "generator = torch.Generator().manual_seed(42)\n",
        "train_dataset, val_dataset = random_split(full_train_dataset, [train_size, val_size], generator=generator)\n",
        "val_dataset.dataset.transform = val_transform\n",
        "test_dataset = datasets.ImageFolder(test_dir, transform=val_transform)\n",
        "\n",
        "# Weighted Sampler (클래스별 불균형 대응)\n",
        "all_targets = [train_dataset[i][1] for i in range(len(train_dataset))]\n",
        "class_sample_counts = [all_targets.count(i) for i in range(len(class_counts))]\n",
        "weights = 1. / torch.tensor(class_sample_counts, dtype=torch.float)\n",
        "samples_weight = [weights[t] for t in all_targets]\n",
        "sampler = WeightedRandomSampler(samples_weight, len(samples_weight), replacement=True)\n",
        "\n",
        "train_loader = DataLoader(train_dataset, batch_size=batch_size, sampler=sampler, num_workers=4, pin_memory=True)\n",
        "val_loader = DataLoader(val_dataset, batch_size=batch_size, shuffle=False, num_workers=4, pin_memory=True)\n",
        "test_loader = DataLoader(test_dataset, batch_size=batch_size, shuffle=False, num_workers=4, pin_memory=True)\n",
        "\n",
        "print(\"클래스:\", full_train_dataset.classes)\n",
        "\n",
        "# 6. DenseNet201 (FC 확장/Dropout/BatchNorm, 마지막 denseblock과 FC만 Unfreeze)\n",
        "device = torch.device(\"cuda\" if torch.cuda.is_available() else \"cpu\")\n",
        "model = models.densenet201(pretrained=True)\n",
        "for param in model.parameters():\n",
        "    param.requires_grad = False\n",
        "\n",
        "num_ftrs = model.classifier.in_features\n",
        "model.classifier = nn.Sequential(\n",
        "    nn.BatchNorm1d(num_ftrs),\n",
        "    nn.Dropout(dropout_p),\n",
        "    nn.Linear(num_ftrs, 1024),\n",
        "    nn.BatchNorm1d(1024),\n",
        "    nn.ReLU(),\n",
        "    nn.Dropout(dropout_p),\n",
        "    nn.Linear(1024, 512),\n",
        "    nn.BatchNorm1d(512),\n",
        "    nn.ReLU(),\n",
        "    nn.Dropout(0.5),\n",
        "    nn.Linear(512, 128),\n",
        "    nn.BatchNorm1d(128),\n",
        "    nn.ReLU(),\n",
        "    nn.Dropout(0.4),\n",
        "    nn.Linear(128, len(class_counts))\n",
        ")\n",
        "model = model.to(device)\n",
        "\n",
        "for name, param in model.named_parameters():\n",
        "    if 'denseblock4' in name or 'classifier' in name:\n",
        "        param.requires_grad = True\n",
        "\n",
        "# 7. Loss, Optimizer, Scheduler\n",
        "class_weights = [1.0 / c for c in class_sample_counts]\n",
        "class_weights = torch.tensor(class_weights, dtype=torch.float).to(device)\n",
        "criterion = nn.CrossEntropyLoss(weight=class_weights, label_smoothing=0.12)\n",
        "optimizer = optim.Adam(filter(lambda p: p.requires_grad, model.parameters()), lr=learning_rate, weight_decay=weight_decay)\n",
        "scheduler = optim.lr_scheduler.ReduceLROnPlateau(optimizer, mode='min', factor=0.5, patience=2, verbose=True)\n",
        "\n",
        "# 8. 학습/검증 루프 + Early Stopping\n",
        "best_val_loss = float('inf')\n",
        "trials = 0\n",
        "history = {'train_loss': [], 'val_loss': [], 'train_acc': [], 'val_acc': []}\n",
        "\n",
        "for epoch in range(num_epochs):\n",
        "    model.train()\n",
        "    running_loss, running_correct, total = 0, 0, 0\n",
        "    for images, labels in tqdm(train_loader, desc=f\"Epoch {epoch+1}/{num_epochs} [Train]\"):\n",
        "        images, labels = images.to(device), labels.to(device)\n",
        "        optimizer.zero_grad()\n",
        "        outputs = model(images)\n",
        "        loss = criterion(outputs, labels)\n",
        "        loss.backward()\n",
        "        optimizer.step()\n",
        "        running_loss += loss.item() * images.size(0)\n",
        "        preds = torch.argmax(outputs, dim=1)\n",
        "        running_correct += (preds == labels).sum().item()\n",
        "        total += labels.size(0)\n",
        "    train_loss = running_loss / total\n",
        "    train_acc = running_correct / total\n",
        "\n",
        "    model.eval()\n",
        "    val_loss, val_correct, val_total = 0, 0, 0\n",
        "    with torch.no_grad():\n",
        "        for images, labels in val_loader:\n",
        "            images, labels = images.to(device), labels.to(device)\n",
        "            outputs = model(images)\n",
        "            loss = criterion(outputs, labels)\n",
        "            val_loss += loss.item() * images.size(0)\n",
        "            preds = torch.argmax(outputs, dim=1)\n",
        "            val_correct += (preds == labels).sum().item()\n",
        "            val_total += labels.size(0)\n",
        "    val_loss_epoch = val_loss / val_total\n",
        "    val_acc = val_correct / val_total\n",
        "\n",
        "    history['train_loss'].append(train_loss)\n",
        "    history['val_loss'].append(val_loss_epoch)\n",
        "    history['train_acc'].append(train_acc)\n",
        "    history['val_acc'].append(val_acc)\n",
        "\n",
        "    print(f\"Epoch {epoch+1}/{num_epochs} | \"\n",
        "          f\"Train Loss: {train_loss:.4f}, Train Acc: {train_acc:.4f} | \"\n",
        "          f\"Val Loss: {val_loss_epoch:.4f}, Val Acc: {val_acc:.4f}\")\n",
        "\n",
        "    scheduler.step(val_loss_epoch)\n",
        "    if val_loss_epoch < best_val_loss:\n",
        "        best_val_loss = val_loss_epoch\n",
        "        trials = 0\n",
        "        torch.save(model.state_dict(), 'best_densenet201.pt')\n",
        "    else:\n",
        "        trials += 1\n",
        "        if trials >= early_stop_patience:\n",
        "            print('Early stopping!')\n",
        "            break\n",
        "\n",
        "# 9. 테스트 평가 및 리포트\n",
        "model.load_state_dict(torch.load('best_densenet201.pt'))\n",
        "model.eval()\n",
        "all_preds, all_labels = [], []\n",
        "with torch.no_grad():\n",
        "    for images, labels in test_loader:\n",
        "        images, labels = images.to(device), labels.to(device)\n",
        "        outputs = model(images)\n",
        "        preds = torch.argmax(outputs, dim=1)\n",
        "        all_preds.extend(preds.cpu().numpy())\n",
        "        all_labels.extend(labels.cpu().numpy())\n",
        "\n",
        "test_acc = np.mean(np.array(all_preds) == np.array(all_labels))\n",
        "print(f\"최종 테스트 정확도: {test_acc:.4f}\")\n",
        "\n",
        "cm = confusion_matrix(all_labels, all_preds)\n",
        "plt.figure(figsize=(6,5))\n",
        "sns.heatmap(cm, annot=True, fmt=\"d\", cmap=\"Blues\",\n",
        "            xticklabels=full_train_dataset.classes,\n",
        "            yticklabels=full_train_dataset.classes)\n",
        "plt.xlabel(\"예측값\")\n",
        "plt.ylabel(\"실제값\")\n",
        "plt.title(\"Confusion Matrix\")\n",
        "plt.show()\n",
        "\n",
        "print(classification_report(all_labels, all_preds, target_names=full_train_dataset.classes))\n",
        "\n",
        "plt.figure(figsize=(8,5))\n",
        "plt.plot(history['train_loss'], label='학습 손실')\n",
        "plt.plot(history['val_loss'], label='검증 손실')\n",
        "plt.legend(), plt.xlabel('Epoch'), plt.ylabel('Loss'), plt.title('Loss 변화량')\n",
        "plt.show()\n",
        "\n",
        "plt.figure(figsize=(8,5))\n",
        "plt.plot(history['train_acc'], label='학습 정확도')\n",
        "plt.plot(history['val_acc'], label='검증 정확도')\n",
        "plt.legend(), plt.xlabel('Epoch'), plt.ylabel('Accuracy'), plt.title('Accuracy 변화량')\n",
        "plt.show()\n"
      ],
      "metadata": {
        "colab": {
          "base_uri": "https://localhost:8080/",
          "height": 1000
        },
        "id": "W8Mn4G2i_e3m",
        "outputId": "ef0ae6a0-979f-4cea-95c2-c2fbed3f0625"
      },
      "execution_count": 10,
      "outputs": [
        {
          "output_type": "stream",
          "name": "stdout",
          "text": [
            "클래스별 이미지 개수: [1903, 1542, 1363]\n"
          ]
        },
        {
          "output_type": "stream",
          "name": "stderr",
          "text": [
            "/usr/local/lib/python3.11/dist-packages/torch/utils/data/dataloader.py:624: UserWarning: This DataLoader will create 4 worker processes in total. Our suggested max number of worker in current system is 2, which is smaller than what this DataLoader is going to create. Please be aware that excessive worker creation might get DataLoader running slow or even freeze, lower the worker number to avoid potential slowness/freeze if necessary.\n",
            "  warnings.warn(\n",
            "/usr/local/lib/python3.11/dist-packages/torchvision/models/_utils.py:208: UserWarning: The parameter 'pretrained' is deprecated since 0.13 and may be removed in the future, please use 'weights' instead.\n",
            "  warnings.warn(\n",
            "/usr/local/lib/python3.11/dist-packages/torchvision/models/_utils.py:223: UserWarning: Arguments other than a weight enum or `None` for 'weights' are deprecated since 0.13 and may be removed in the future. The current behavior is equivalent to passing `weights=DenseNet201_Weights.IMAGENET1K_V1`. You can also use `weights=DenseNet201_Weights.DEFAULT` to get the most up-to-date weights.\n",
            "  warnings.warn(msg)\n"
          ]
        },
        {
          "output_type": "stream",
          "name": "stdout",
          "text": [
            "클래스: ['Herniated Disc', 'No Stenosis', 'Thecal Sac']\n"
          ]
        },
        {
          "output_type": "stream",
          "name": "stderr",
          "text": [
            "/usr/local/lib/python3.11/dist-packages/torch/optim/lr_scheduler.py:62: UserWarning: The verbose parameter is deprecated. Please use get_last_lr() to access the learning rate.\n",
            "  warnings.warn(\n",
            "Epoch 1/40 [Train]: 100%|██████████| 241/241 [00:32<00:00,  7.38it/s]\n"
          ]
        },
        {
          "output_type": "stream",
          "name": "stdout",
          "text": [
            "Epoch 1/40 | Train Loss: 1.1937, Train Acc: 0.3367 | Val Loss: 1.0991, Val Acc: 0.3389\n"
          ]
        },
        {
          "output_type": "stream",
          "name": "stderr",
          "text": [
            "Epoch 2/40 [Train]: 100%|██████████| 241/241 [00:32<00:00,  7.34it/s]\n"
          ]
        },
        {
          "output_type": "stream",
          "name": "stdout",
          "text": [
            "Epoch 2/40 | Train Loss: 1.1749, Train Acc: 0.3424 | Val Loss: 1.0970, Val Acc: 0.3358\n"
          ]
        },
        {
          "output_type": "stream",
          "name": "stderr",
          "text": [
            "Epoch 3/40 [Train]: 100%|██████████| 241/241 [00:33<00:00,  7.11it/s]\n"
          ]
        },
        {
          "output_type": "stream",
          "name": "stdout",
          "text": [
            "Epoch 3/40 | Train Loss: 1.1667, Train Acc: 0.3414 | Val Loss: 1.0943, Val Acc: 0.3472\n"
          ]
        },
        {
          "output_type": "stream",
          "name": "stderr",
          "text": [
            "Epoch 4/40 [Train]: 100%|██████████| 241/241 [00:33<00:00,  7.18it/s]\n"
          ]
        },
        {
          "output_type": "stream",
          "name": "stdout",
          "text": [
            "Epoch 4/40 | Train Loss: 1.1621, Train Acc: 0.3515 | Val Loss: 1.0915, Val Acc: 0.3503\n"
          ]
        },
        {
          "output_type": "stream",
          "name": "stderr",
          "text": [
            "Epoch 5/40 [Train]: 100%|██████████| 241/241 [00:32<00:00,  7.32it/s]\n"
          ]
        },
        {
          "output_type": "stream",
          "name": "stdout",
          "text": [
            "Epoch 5/40 | Train Loss: 1.1510, Train Acc: 0.3471 | Val Loss: 1.0886, Val Acc: 0.3753\n"
          ]
        },
        {
          "output_type": "stream",
          "name": "stderr",
          "text": [
            "Epoch 6/40 [Train]: 100%|██████████| 241/241 [00:32<00:00,  7.33it/s]\n"
          ]
        },
        {
          "output_type": "stream",
          "name": "stdout",
          "text": [
            "Epoch 6/40 | Train Loss: 1.1359, Train Acc: 0.3606 | Val Loss: 1.0869, Val Acc: 0.3773\n"
          ]
        },
        {
          "output_type": "stream",
          "name": "stderr",
          "text": [
            "Epoch 7/40 [Train]: 100%|██████████| 241/241 [00:32<00:00,  7.42it/s]\n"
          ]
        },
        {
          "output_type": "stream",
          "name": "stdout",
          "text": [
            "Epoch 7/40 | Train Loss: 1.1373, Train Acc: 0.3565 | Val Loss: 1.0852, Val Acc: 0.3836\n"
          ]
        },
        {
          "output_type": "stream",
          "name": "stderr",
          "text": [
            "Epoch 8/40 [Train]: 100%|██████████| 241/241 [00:32<00:00,  7.45it/s]\n"
          ]
        },
        {
          "output_type": "stream",
          "name": "stdout",
          "text": [
            "Epoch 8/40 | Train Loss: 1.1323, Train Acc: 0.3596 | Val Loss: 1.0826, Val Acc: 0.3971\n"
          ]
        },
        {
          "output_type": "stream",
          "name": "stderr",
          "text": [
            "Epoch 9/40 [Train]: 100%|██████████| 241/241 [00:32<00:00,  7.40it/s]\n"
          ]
        },
        {
          "output_type": "stream",
          "name": "stdout",
          "text": [
            "Epoch 9/40 | Train Loss: 1.1307, Train Acc: 0.3614 | Val Loss: 1.0804, Val Acc: 0.4054\n"
          ]
        },
        {
          "output_type": "stream",
          "name": "stderr",
          "text": [
            "Epoch 10/40 [Train]: 100%|██████████| 241/241 [00:32<00:00,  7.41it/s]\n"
          ]
        },
        {
          "output_type": "stream",
          "name": "stdout",
          "text": [
            "Epoch 10/40 | Train Loss: 1.1141, Train Acc: 0.3833 | Val Loss: 1.0782, Val Acc: 0.4075\n"
          ]
        },
        {
          "output_type": "stream",
          "name": "stderr",
          "text": [
            "Epoch 11/40 [Train]: 100%|██████████| 241/241 [00:32<00:00,  7.35it/s]\n"
          ]
        },
        {
          "output_type": "stream",
          "name": "stdout",
          "text": [
            "Epoch 11/40 | Train Loss: 1.1098, Train Acc: 0.3835 | Val Loss: 1.0739, Val Acc: 0.4179\n"
          ]
        },
        {
          "output_type": "stream",
          "name": "stderr",
          "text": [
            "Epoch 12/40 [Train]: 100%|██████████| 241/241 [00:33<00:00,  7.25it/s]\n"
          ]
        },
        {
          "output_type": "stream",
          "name": "stdout",
          "text": [
            "Epoch 12/40 | Train Loss: 1.1027, Train Acc: 0.3869 | Val Loss: 1.0721, Val Acc: 0.4210\n"
          ]
        },
        {
          "output_type": "stream",
          "name": "stderr",
          "text": [
            "Epoch 13/40 [Train]: 100%|██████████| 241/241 [00:33<00:00,  7.14it/s]\n"
          ]
        },
        {
          "output_type": "stream",
          "name": "stdout",
          "text": [
            "Epoch 13/40 | Train Loss: 1.1073, Train Acc: 0.3822 | Val Loss: 1.0679, Val Acc: 0.4252\n"
          ]
        },
        {
          "output_type": "stream",
          "name": "stderr",
          "text": [
            "Epoch 14/40 [Train]: 100%|██████████| 241/241 [00:33<00:00,  7.14it/s]\n"
          ]
        },
        {
          "output_type": "stream",
          "name": "stdout",
          "text": [
            "Epoch 14/40 | Train Loss: 1.1154, Train Acc: 0.3739 | Val Loss: 1.0630, Val Acc: 0.4293\n"
          ]
        },
        {
          "output_type": "stream",
          "name": "stderr",
          "text": [
            "Epoch 15/40 [Train]: 100%|██████████| 241/241 [00:33<00:00,  7.28it/s]\n"
          ]
        },
        {
          "output_type": "stream",
          "name": "stdout",
          "text": [
            "Epoch 15/40 | Train Loss: 1.0947, Train Acc: 0.4072 | Val Loss: 1.0595, Val Acc: 0.4407\n"
          ]
        },
        {
          "output_type": "stream",
          "name": "stderr",
          "text": [
            "Epoch 16/40 [Train]: 100%|██████████| 241/241 [00:32<00:00,  7.36it/s]\n"
          ]
        },
        {
          "output_type": "stream",
          "name": "stdout",
          "text": [
            "Epoch 16/40 | Train Loss: 1.0967, Train Acc: 0.4046 | Val Loss: 1.0562, Val Acc: 0.4397\n"
          ]
        },
        {
          "output_type": "stream",
          "name": "stderr",
          "text": [
            "Epoch 17/40 [Train]: 100%|██████████| 241/241 [00:32<00:00,  7.42it/s]\n"
          ]
        },
        {
          "output_type": "stream",
          "name": "stdout",
          "text": [
            "Epoch 17/40 | Train Loss: 1.0753, Train Acc: 0.4184 | Val Loss: 1.0538, Val Acc: 0.4407\n"
          ]
        },
        {
          "output_type": "stream",
          "name": "stderr",
          "text": [
            "Epoch 18/40 [Train]: 100%|██████████| 241/241 [00:32<00:00,  7.44it/s]\n"
          ]
        },
        {
          "output_type": "stream",
          "name": "stdout",
          "text": [
            "Epoch 18/40 | Train Loss: 1.0676, Train Acc: 0.4321 | Val Loss: 1.0455, Val Acc: 0.4605\n"
          ]
        },
        {
          "output_type": "stream",
          "name": "stderr",
          "text": [
            "Epoch 19/40 [Train]: 100%|██████████| 241/241 [00:32<00:00,  7.43it/s]\n"
          ]
        },
        {
          "output_type": "stream",
          "name": "stdout",
          "text": [
            "Epoch 19/40 | Train Loss: 1.0600, Train Acc: 0.4368 | Val Loss: 1.0434, Val Acc: 0.4480\n"
          ]
        },
        {
          "output_type": "stream",
          "name": "stderr",
          "text": [
            "Epoch 20/40 [Train]: 100%|██████████| 241/241 [00:32<00:00,  7.44it/s]\n"
          ]
        },
        {
          "output_type": "stream",
          "name": "stdout",
          "text": [
            "Epoch 20/40 | Train Loss: 1.0604, Train Acc: 0.4381 | Val Loss: 1.0355, Val Acc: 0.4563\n"
          ]
        },
        {
          "output_type": "stream",
          "name": "stderr",
          "text": [
            "Epoch 21/40 [Train]: 100%|██████████| 241/241 [00:32<00:00,  7.41it/s]\n"
          ]
        },
        {
          "output_type": "stream",
          "name": "stdout",
          "text": [
            "Epoch 21/40 | Train Loss: 1.0550, Train Acc: 0.4511 | Val Loss: 1.0335, Val Acc: 0.4543\n"
          ]
        },
        {
          "output_type": "stream",
          "name": "stderr",
          "text": [
            "Epoch 22/40 [Train]: 100%|██████████| 241/241 [00:33<00:00,  7.21it/s]\n"
          ]
        },
        {
          "output_type": "stream",
          "name": "stdout",
          "text": [
            "Epoch 22/40 | Train Loss: 1.0348, Train Acc: 0.4711 | Val Loss: 1.0253, Val Acc: 0.4657\n"
          ]
        },
        {
          "output_type": "stream",
          "name": "stderr",
          "text": [
            "Epoch 23/40 [Train]: 100%|██████████| 241/241 [00:33<00:00,  7.12it/s]\n"
          ]
        },
        {
          "output_type": "stream",
          "name": "stdout",
          "text": [
            "Epoch 23/40 | Train Loss: 1.0209, Train Acc: 0.4821 | Val Loss: 1.0241, Val Acc: 0.4595\n"
          ]
        },
        {
          "output_type": "stream",
          "name": "stderr",
          "text": [
            "Epoch 24/40 [Train]: 100%|██████████| 241/241 [00:33<00:00,  7.15it/s]\n"
          ]
        },
        {
          "output_type": "stream",
          "name": "stdout",
          "text": [
            "Epoch 24/40 | Train Loss: 1.0087, Train Acc: 0.4979 | Val Loss: 1.0134, Val Acc: 0.4709\n"
          ]
        },
        {
          "output_type": "stream",
          "name": "stderr",
          "text": [
            "Epoch 25/40 [Train]: 100%|██████████| 241/241 [00:33<00:00,  7.26it/s]\n"
          ]
        },
        {
          "output_type": "stream",
          "name": "stdout",
          "text": [
            "Epoch 25/40 | Train Loss: 0.9945, Train Acc: 0.5060 | Val Loss: 1.0125, Val Acc: 0.4605\n"
          ]
        },
        {
          "output_type": "stream",
          "name": "stderr",
          "text": [
            "Epoch 26/40 [Train]: 100%|██████████| 241/241 [00:32<00:00,  7.38it/s]\n"
          ]
        },
        {
          "output_type": "stream",
          "name": "stdout",
          "text": [
            "Epoch 26/40 | Train Loss: 0.9676, Train Acc: 0.5382 | Val Loss: 1.0112, Val Acc: 0.4647\n"
          ]
        },
        {
          "output_type": "stream",
          "name": "stderr",
          "text": [
            "Epoch 27/40 [Train]: 100%|██████████| 241/241 [00:32<00:00,  7.43it/s]\n"
          ]
        },
        {
          "output_type": "stream",
          "name": "stdout",
          "text": [
            "Epoch 27/40 | Train Loss: 0.9636, Train Acc: 0.5390 | Val Loss: 1.0018, Val Acc: 0.4751\n"
          ]
        },
        {
          "output_type": "stream",
          "name": "stderr",
          "text": [
            "Epoch 28/40 [Train]: 100%|██████████| 241/241 [00:32<00:00,  7.38it/s]\n"
          ]
        },
        {
          "output_type": "stream",
          "name": "stdout",
          "text": [
            "Epoch 28/40 | Train Loss: 0.9241, Train Acc: 0.5798 | Val Loss: 0.9903, Val Acc: 0.4886\n"
          ]
        },
        {
          "output_type": "stream",
          "name": "stderr",
          "text": [
            "Epoch 29/40 [Train]: 100%|██████████| 241/241 [00:32<00:00,  7.39it/s]\n"
          ]
        },
        {
          "output_type": "stream",
          "name": "stdout",
          "text": [
            "Epoch 29/40 | Train Loss: 0.9041, Train Acc: 0.5884 | Val Loss: 0.9921, Val Acc: 0.4751\n"
          ]
        },
        {
          "output_type": "stream",
          "name": "stderr",
          "text": [
            "Epoch 30/40 [Train]: 100%|██████████| 241/241 [00:32<00:00,  7.47it/s]\n"
          ]
        },
        {
          "output_type": "stream",
          "name": "stdout",
          "text": [
            "Epoch 30/40 | Train Loss: 0.8948, Train Acc: 0.5946 | Val Loss: 0.9898, Val Acc: 0.4782\n"
          ]
        },
        {
          "output_type": "stream",
          "name": "stderr",
          "text": [
            "Epoch 31/40 [Train]: 100%|██████████| 241/241 [00:32<00:00,  7.37it/s]\n"
          ]
        },
        {
          "output_type": "stream",
          "name": "stdout",
          "text": [
            "Epoch 31/40 | Train Loss: 0.8696, Train Acc: 0.6160 | Val Loss: 0.9812, Val Acc: 0.4823\n"
          ]
        },
        {
          "output_type": "stream",
          "name": "stderr",
          "text": [
            "Epoch 32/40 [Train]: 100%|██████████| 241/241 [00:33<00:00,  7.25it/s]\n"
          ]
        },
        {
          "output_type": "stream",
          "name": "stdout",
          "text": [
            "Epoch 32/40 | Train Loss: 0.8322, Train Acc: 0.6479 | Val Loss: 0.9714, Val Acc: 0.4969\n"
          ]
        },
        {
          "output_type": "stream",
          "name": "stderr",
          "text": [
            "Epoch 33/40 [Train]: 100%|██████████| 241/241 [00:33<00:00,  7.20it/s]\n"
          ]
        },
        {
          "output_type": "stream",
          "name": "stdout",
          "text": [
            "Epoch 33/40 | Train Loss: 0.7948, Train Acc: 0.6752 | Val Loss: 0.9784, Val Acc: 0.4865\n"
          ]
        },
        {
          "output_type": "stream",
          "name": "stderr",
          "text": [
            "Epoch 34/40 [Train]: 100%|██████████| 241/241 [00:33<00:00,  7.22it/s]\n"
          ]
        },
        {
          "output_type": "stream",
          "name": "stdout",
          "text": [
            "Epoch 34/40 | Train Loss: 0.7865, Train Acc: 0.6791 | Val Loss: 0.9687, Val Acc: 0.5042\n"
          ]
        },
        {
          "output_type": "stream",
          "name": "stderr",
          "text": [
            "Epoch 35/40 [Train]: 100%|██████████| 241/241 [00:33<00:00,  7.24it/s]\n"
          ]
        },
        {
          "output_type": "stream",
          "name": "stdout",
          "text": [
            "Epoch 35/40 | Train Loss: 0.7485, Train Acc: 0.7054 | Val Loss: 0.9625, Val Acc: 0.5094\n"
          ]
        },
        {
          "output_type": "stream",
          "name": "stderr",
          "text": [
            "Epoch 36/40 [Train]: 100%|██████████| 241/241 [00:32<00:00,  7.39it/s]\n"
          ]
        },
        {
          "output_type": "stream",
          "name": "stdout",
          "text": [
            "Epoch 36/40 | Train Loss: 0.7192, Train Acc: 0.7340 | Val Loss: 0.9554, Val Acc: 0.5146\n"
          ]
        },
        {
          "output_type": "stream",
          "name": "stderr",
          "text": [
            "Epoch 37/40 [Train]: 100%|██████████| 241/241 [00:32<00:00,  7.41it/s]\n"
          ]
        },
        {
          "output_type": "stream",
          "name": "stdout",
          "text": [
            "Epoch 37/40 | Train Loss: 0.6964, Train Acc: 0.7533 | Val Loss: 0.9513, Val Acc: 0.5333\n"
          ]
        },
        {
          "output_type": "stream",
          "name": "stderr",
          "text": [
            "Epoch 38/40 [Train]: 100%|██████████| 241/241 [00:32<00:00,  7.42it/s]\n"
          ]
        },
        {
          "output_type": "stream",
          "name": "stdout",
          "text": [
            "Epoch 38/40 | Train Loss: 0.6824, Train Acc: 0.7691 | Val Loss: 0.9415, Val Acc: 0.5385\n"
          ]
        },
        {
          "output_type": "stream",
          "name": "stderr",
          "text": [
            "Epoch 39/40 [Train]: 100%|██████████| 241/241 [00:32<00:00,  7.43it/s]\n"
          ]
        },
        {
          "output_type": "stream",
          "name": "stdout",
          "text": [
            "Epoch 39/40 | Train Loss: 0.6470, Train Acc: 0.7972 | Val Loss: 0.9604, Val Acc: 0.5509\n"
          ]
        },
        {
          "output_type": "stream",
          "name": "stderr",
          "text": [
            "Epoch 40/40 [Train]: 100%|██████████| 241/241 [00:32<00:00,  7.48it/s]\n"
          ]
        },
        {
          "output_type": "stream",
          "name": "stdout",
          "text": [
            "Epoch 40/40 | Train Loss: 0.6356, Train Acc: 0.7995 | Val Loss: 0.9502, Val Acc: 0.5613\n",
            "최종 테스트 정확도: 0.4819\n"
          ]
        },
        {
          "output_type": "stream",
          "name": "stderr",
          "text": [
            "/usr/local/lib/python3.11/dist-packages/IPython/core/pylabtools.py:151: UserWarning: Glyph 49892 (\\N{HANGUL SYLLABLE SIL}) missing from font(s) DejaVu Sans.\n",
            "  fig.canvas.print_figure(bytes_io, **kw)\n",
            "/usr/local/lib/python3.11/dist-packages/IPython/core/pylabtools.py:151: UserWarning: Glyph 51228 (\\N{HANGUL SYLLABLE JE}) missing from font(s) DejaVu Sans.\n",
            "  fig.canvas.print_figure(bytes_io, **kw)\n",
            "/usr/local/lib/python3.11/dist-packages/IPython/core/pylabtools.py:151: UserWarning: Glyph 44050 (\\N{HANGUL SYLLABLE GABS}) missing from font(s) DejaVu Sans.\n",
            "  fig.canvas.print_figure(bytes_io, **kw)\n",
            "/usr/local/lib/python3.11/dist-packages/IPython/core/pylabtools.py:151: UserWarning: Glyph 50696 (\\N{HANGUL SYLLABLE YE}) missing from font(s) DejaVu Sans.\n",
            "  fig.canvas.print_figure(bytes_io, **kw)\n",
            "/usr/local/lib/python3.11/dist-packages/IPython/core/pylabtools.py:151: UserWarning: Glyph 52769 (\\N{HANGUL SYLLABLE CEUG}) missing from font(s) DejaVu Sans.\n",
            "  fig.canvas.print_figure(bytes_io, **kw)\n"
          ]
        },
        {
          "output_type": "display_data",
          "data": {
            "text/plain": [
              "<Figure size 600x500 with 2 Axes>"
            ],
            "image/png": "[encoded data removed]"
          },
          "metadata": {}
        },
        {
          "output_type": "stream",
          "name": "stdout",
          "text": [
            "                precision    recall  f1-score   support\n",
            "\n",
            "Herniated Disc       0.52      0.35      0.42       257\n",
            "   No Stenosis       0.32      0.47      0.38       289\n",
            "    Thecal Sac       0.60      0.54      0.57       612\n",
            "\n",
            "      accuracy                           0.48      1158\n",
            "     macro avg       0.48      0.45      0.45      1158\n",
            "  weighted avg       0.51      0.48      0.49      1158\n",
            "\n"
          ]
        },
        {
          "output_type": "stream",
          "name": "stderr",
          "text": [
            "/usr/local/lib/python3.11/dist-packages/IPython/core/pylabtools.py:151: UserWarning: Glyph 48320 (\\N{HANGUL SYLLABLE BYEON}) missing from font(s) DejaVu Sans.\n",
            "  fig.canvas.print_figure(bytes_io, **kw)\n",
            "/usr/local/lib/python3.11/dist-packages/IPython/core/pylabtools.py:151: UserWarning: Glyph 54868 (\\N{HANGUL SYLLABLE HWA}) missing from font(s) DejaVu Sans.\n",
            "  fig.canvas.print_figure(bytes_io, **kw)\n",
            "/usr/local/lib/python3.11/dist-packages/IPython/core/pylabtools.py:151: UserWarning: Glyph 47049 (\\N{HANGUL SYLLABLE RYANG}) missing from font(s) DejaVu Sans.\n",
            "  fig.canvas.print_figure(bytes_io, **kw)\n",
            "/usr/local/lib/python3.11/dist-packages/IPython/core/pylabtools.py:151: UserWarning: Glyph 54617 (\\N{HANGUL SYLLABLE HAG}) missing from font(s) DejaVu Sans.\n",
            "  fig.canvas.print_figure(bytes_io, **kw)\n",
            "/usr/local/lib/python3.11/dist-packages/IPython/core/pylabtools.py:151: UserWarning: Glyph 49845 (\\N{HANGUL SYLLABLE SEUB}) missing from font(s) DejaVu Sans.\n",
            "  fig.canvas.print_figure(bytes_io, **kw)\n",
            "/usr/local/lib/python3.11/dist-packages/IPython/core/pylabtools.py:151: UserWarning: Glyph 49552 (\\N{HANGUL SYLLABLE SON}) missing from font(s) DejaVu Sans.\n",
            "  fig.canvas.print_figure(bytes_io, **kw)\n",
            "/usr/local/lib/python3.11/dist-packages/IPython/core/pylabtools.py:151: UserWarning: Glyph 49892 (\\N{HANGUL SYLLABLE SIL}) missing from font(s) DejaVu Sans.\n",
            "  fig.canvas.print_figure(bytes_io, **kw)\n",
            "/usr/local/lib/python3.11/dist-packages/IPython/core/pylabtools.py:151: UserWarning: Glyph 44160 (\\N{HANGUL SYLLABLE GEOM}) missing from font(s) DejaVu Sans.\n",
            "  fig.canvas.print_figure(bytes_io, **kw)\n",
            "/usr/local/lib/python3.11/dist-packages/IPython/core/pylabtools.py:151: UserWarning: Glyph 51613 (\\N{HANGUL SYLLABLE JEUNG}) missing from font(s) DejaVu Sans.\n",
            "  fig.canvas.print_figure(bytes_io, **kw)\n"
          ]
        },
        {
          "output_type": "display_data",
          "data": {
            "text/plain": [
              "<Figure size 800x500 with 1 Axes>"
            ],
            "image/png": "[encoded data removed]"
          },
          "metadata": {}
        },
        {
          "output_type": "stream",
          "name": "stderr",
          "text": [
            "/usr/local/lib/python3.11/dist-packages/IPython/core/pylabtools.py:151: UserWarning: Glyph 51221 (\\N{HANGUL SYLLABLE JEONG}) missing from font(s) DejaVu Sans.\n",
            "  fig.canvas.print_figure(bytes_io, **kw)\n",
            "/usr/local/lib/python3.11/dist-packages/IPython/core/pylabtools.py:151: UserWarning: Glyph 54869 (\\N{HANGUL SYLLABLE HWAG}) missing from font(s) DejaVu Sans.\n",
            "  fig.canvas.print_figure(bytes_io, **kw)\n",
            "/usr/local/lib/python3.11/dist-packages/IPython/core/pylabtools.py:151: UserWarning: Glyph 46020 (\\N{HANGUL SYLLABLE DO}) missing from font(s) DejaVu Sans.\n",
            "  fig.canvas.print_figure(bytes_io, **kw)\n"
          ]
        },
        {
          "output_type": "display_data",
          "data": {
            "text/plain": [
              "<Figure size 800x500 with 1 Axes>"
            ],
            "image/png": "[encoded data removed]"
          },
          "metadata": {}
        }
      ]
    }
  ]
}